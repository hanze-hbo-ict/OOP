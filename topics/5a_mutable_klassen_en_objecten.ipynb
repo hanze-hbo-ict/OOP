{
 "cells": [
  {
   "cell_type": "markdown",
   "id": "587d0921",
   "metadata": {},
   "source": [
    "# Mutable objects\n",
    "Objecten waarvan gegevens (er wordt ook wel gesproken van 'eigenschappen') gewijzigd kunnen worden worden *mutable* genoemd."
   ]
  },
  {
   "cell_type": "markdown",
   "id": "d2d62d71",
   "metadata": {},
   "source": [
    "## Klasse Point\n",
    "Point is een mutable klasse. Objecten van het type Point zijn mutable objecten.\n",
    "\n",
    "Documentatie: [https://docs.oracle.com/en/java/javase/11/docs/api/java.desktop/java/awt/Point.html](https://docs.oracle.com/en/java/javase/11/docs/api/java.desktop/java/awt/Point.html)\n",
    "\n",
    "Nieuwe punt maken:"
   ]
  },
  {
   "cell_type": "code",
   "execution_count": 1,
   "id": "4d86a6d2",
   "metadata": {},
   "outputs": [
    {
     "name": "stdout",
     "output_type": "stream",
     "text": [
      "java.awt.Point[x=3,y=4]\n",
      "De x-coördinaat is: 3.0\n"
     ]
    }
   ],
   "source": [
    "import java.awt.Point;\n",
    "Point punt;\n",
    "punt = new Point(3, 4);\n",
    "System.out.println(punt);\n",
    "System.out.println(\"De x-coördinaat is: \" + punt.getX());"
   ]
  },
  {
   "cell_type": "markdown",
   "id": "4e2f2675",
   "metadata": {},
   "source": [
    "Met een geheugen-diagram kan de variabele **punt** van type **Point** als volgt worden weergegeven:\n",
    "![punt](images/5/mem_pointobject.png)\n",
    "\n",
    "Locatie veranderen:"
   ]
  },
  {
   "cell_type": "code",
   "execution_count": 2,
   "id": "22f609f5",
   "metadata": {},
   "outputs": [
    {
     "name": "stdout",
     "output_type": "stream",
     "text": [
      "java.awt.Point[x=10,y=4]\n",
      "De x-coördinaat is: 10.0\n",
      "De y-coördinaat is: 4.0\n"
     ]
    }
   ],
   "source": [
    "punt.setLocation(10, 4);\n",
    "System.out.println(punt);\n",
    "System.out.println(\"De x-coördinaat is: \" + punt.getX());\n",
    "System.out.println(\"De y-coördinaat is: \" + punt.getY());"
   ]
  },
  {
   "cell_type": "markdown",
   "id": "429a3e4b",
   "metadata": {},
   "source": [
    "Het bestaande object wordt gewijzigd, want Point is mutable.\n",
    "\n",
    "Daarom geeft de methode **setLocation** niets terug. De methode heeft direct effect op het object waarvan de methode wordt aangeroepen."
   ]
  },
  {
   "cell_type": "markdown",
   "id": "020a78fd",
   "metadata": {},
   "source": [
    "## Objecten als parameters\n",
    "\n",
    "Het is mogelijk om *objecten* als *parameters* door te geven bij aanroep van *methoden*, net zoals *primitieven*.\n",
    "\n",
    "Voorbeeld:"
   ]
  },
  {
   "cell_type": "code",
   "execution_count": 3,
   "id": "d68259be",
   "metadata": {},
   "outputs": [
    {
     "name": "stdout",
     "output_type": "stream",
     "text": [
      "(9.0, 4.0)\n"
     ]
    }
   ],
   "source": [
    "public static void printPoint(Point p) {\n",
    "    System.out.println(\"(\" + p.getX() + \", \" + p.getY() + \")\");\n",
    "}\n",
    "\n",
    "punt = new Point(9, 4);\n",
    "printPoint(punt);"
   ]
  },
  {
   "cell_type": "markdown",
   "id": "8771dafa",
   "metadata": {},
   "source": [
    "Een ander voorbeeld:"
   ]
  },
  {
   "cell_type": "code",
   "execution_count": 4,
   "id": "6103c9ee",
   "metadata": {},
   "outputs": [
    {
     "name": "stdout",
     "output_type": "stream",
     "text": [
      "5.0\n"
     ]
    }
   ],
   "source": [
    "public static double calculateDistance(Point p1, Point p2) {\n",
    "    double dx = p2.getX() - p1.getX();\n",
    "    double dy = p2.getY() - p1.getY();\n",
    "    return Math.sqrt(dx * dx + dy * dy);\n",
    "}\n",
    "\n",
    "Point punt1 = new Point(9, 4);\n",
    "Point punt2 = new Point(6, 8);\n",
    "System.out.println(calculateDistance(punt1, punt2));"
   ]
  },
  {
   "cell_type": "markdown",
   "id": "7b70d9d9",
   "metadata": {},
   "source": [
    "Om de afstand tussen twee punten te berekenen, kunnen óók de x- en y-coördinaten worden doorgegeven.\n",
    "\n",
    "Het voorbeeld zal er dan als volgt uit zien:"
   ]
  },
  {
   "cell_type": "code",
   "execution_count": 5,
   "id": "204e1841",
   "metadata": {},
   "outputs": [
    {
     "name": "stdout",
     "output_type": "stream",
     "text": [
      "5.0\n"
     ]
    }
   ],
   "source": [
    "public static double calculateDistance(int x1, int y1, int x2, int y2) {\n",
    "    int dx = x1 - x2;\n",
    "    int dy = y1 - y2;\n",
    "    return Math.sqrt(dx * dx + dy * dy);\n",
    "}\n",
    "\n",
    "Point punt1 = new Point(9, 4);\n",
    "Point punt2 = new Point(6, 8);\n",
    "System.out.println(calculateDistance((int)punt1.getX(), (int)punt1.getY(), (int)punt2.getX(), (int)punt2.getY()));"
   ]
  },
  {
   "cell_type": "markdown",
   "id": "45af6538",
   "metadata": {},
   "source": [
    "Een object (correct verwoord: referentie naar object) doorgeven is eenvoudiger en maakt code beter leesbaar.\n",
    "\n",
    "Overigens heeft de klasse Point al een methode om afstand tussen 2 punten te bepalen. In dat geval is het schrijven van een eigen methode overbodig:"
   ]
  },
  {
   "cell_type": "code",
   "execution_count": 6,
   "id": "b7f38195",
   "metadata": {},
   "outputs": [
    {
     "name": "stdout",
     "output_type": "stream",
     "text": [
      "5.0\n",
      "5.0\n"
     ]
    }
   ],
   "source": [
    "System.out.println(punt1.distance(punt2));\n",
    "System.out.println(punt2.distance(punt1)); // kan ook"
   ]
  },
  {
   "cell_type": "markdown",
   "id": "15088915",
   "metadata": {},
   "source": [
    "## Objecten als return-waardes\n",
    "Net zoals het mogelijk is om ojecten als parameters door te geven bij aanroep van methoden, zo is het ook mogelijk om objecten terug te geven als resultaat.\n",
    "\n",
    "Voorbeeld:"
   ]
  },
  {
   "cell_type": "code",
   "execution_count": 7,
   "id": "25d971b4",
   "metadata": {},
   "outputs": [
    {
     "name": "stdout",
     "output_type": "stream",
     "text": [
      "java.awt.Point[x=0,y=0]\n"
     ]
    }
   ],
   "source": [
    "public static Point createStartpoint() {\n",
    "    return new Point(0, 0);\n",
    "}\n",
    "\n",
    "Point punt = createStartpoint();\n",
    "System.out.println(punt);"
   ]
  },
  {
   "cell_type": "markdown",
   "id": "cb813d79",
   "metadata": {},
   "source": [
    "Immutable objecten kunnen veranderd worden, ook onbedoeld!"
   ]
  },
  {
   "cell_type": "code",
   "execution_count": 8,
   "id": "2538a220",
   "metadata": {},
   "outputs": [
    {
     "name": "stdout",
     "output_type": "stream",
     "text": [
      "java.awt.Point[x=6,y=2]\n",
      "java.awt.Point[x=10,y=0]\n",
      "java.awt.Point[x=6,y=2]\n"
     ]
    }
   ],
   "source": [
    "public static Point getPointBetween(Point p1, Point p2) {\n",
    "    punt1.x=(p1.x+p2.x)/2;\n",
    "    punt1.y=(p1.y+p2.y)/2;\n",
    "    return punt1;\n",
    "}\n",
    "\n",
    "Point punt1 = new Point(2, 4);\n",
    "Point punt2 = new Point(10, 0);\n",
    "Point punt3 = getPointBetween(punt1, punt2);\n",
    "System.out.println(punt1);\n",
    "System.out.println(punt2);\n",
    "System.out.println(punt3);"
   ]
  },
  {
   "cell_type": "markdown",
   "id": "747e41fd",
   "metadata": {},
   "source": [
    "Wat is hier het probleem?\n",
    "\n",
    "punt1 wordt gewijzigd, en die wijziging geldt ook buiten de methode. Deze verandering is onbedoeld.\n",
    "\n",
    "Correcte methode:"
   ]
  },
  {
   "cell_type": "code",
   "execution_count": 9,
   "id": "126b2a25",
   "metadata": {},
   "outputs": [
    {
     "name": "stdout",
     "output_type": "stream",
     "text": [
      "java.awt.Point[x=2,y=4]\n",
      "java.awt.Point[x=10,y=0]\n",
      "java.awt.Point[x=6,y=2]\n"
     ]
    }
   ],
   "source": [
    "public static Point getPointBetween(Point p1, Point p2) {\n",
    "    double x=(punt1.getX()+punt2.getX())/2;\n",
    "    double y=(punt1.getY()+punt2.getY())/2;\n",
    "    return new Point((int)x,(int)y); // (int) -> cast van double naar integer\n",
    "}\n",
    "\n",
    "Point punt1 = new Point(2, 4);\n",
    "Point punt2 = new Point(10, 0);\n",
    "Point punt3 = getPointBetween(punt1, punt2);\n",
    "System.out.println(punt1);\n",
    "System.out.println(punt2);\n",
    "System.out.println(punt3);"
   ]
  },
  {
   "cell_type": "markdown",
   "id": "ac9aa3ef",
   "metadata": {},
   "source": [
    "De objecten waar meegegeven argumenten naar verwijzen blijven ongewijzigd. Het gevraagde punt wordt door de functie teruggegeven. Dit correcte gedrag is te bereiken door de objecten waar argumenten naar verwijzen niet te veranderen. In het geval een object als resultaat wordt teruggegeven, dient in de regel een nieuw object te worden gemaakt."
   ]
  },
  {
   "cell_type": "markdown",
   "id": "f8b5e531",
   "metadata": {},
   "source": [
    "## Klasse Rectangle\n",
    "De klasse Rectangle representeert een rechthoek. Ook deze klasse is mutable.\n",
    "\n",
    "Rectangle maken:"
   ]
  },
  {
   "cell_type": "code",
   "execution_count": 10,
   "id": "e42cb7e9",
   "metadata": {},
   "outputs": [
    {
     "name": "stdout",
     "output_type": "stream",
     "text": [
      "java.awt.Rectangle[x=0,y=0,width=100,height=200]\n"
     ]
    }
   ],
   "source": [
    "import java.awt.Rectangle;\n",
    "Rectangle box = new Rectangle(0, 0, 100, 200);\n",
    "System.out.println(box);"
   ]
  },
  {
   "cell_type": "markdown",
   "id": "260db037",
   "metadata": {},
   "source": [
    "Met een geheugen-diagram kan de variabele **box** van type **Rectangle** als volgt worden weergegeven:\n",
    "![box](images/5/mem_rectangleobject.png)\n",
    "\n",
    "Locatie veranderen:"
   ]
  },
  {
   "cell_type": "code",
   "execution_count": 11,
   "id": "b9c1adbe",
   "metadata": {},
   "outputs": [
    {
     "name": "stdout",
     "output_type": "stream",
     "text": [
      "java.awt.Rectangle[x=50,y=100,width=100,height=200]\n"
     ]
    }
   ],
   "source": [
    "box.setLocation(50, 100);\n",
    "System.out.println(box);\n"
   ]
  },
  {
   "cell_type": "markdown",
   "id": "ad38a92b",
   "metadata": {},
   "source": [
    "Een geheugen-diagram kan de gewijzigde situatie als volgt worden weergegeven:\n",
    "![box](images/5/mem_rectangleobject2.png)"
   ]
  },
  {
   "cell_type": "markdown",
   "id": "83780ec2",
   "metadata": {},
   "source": [
    "Het bestaande object wordt gewijzigd, want Point is mutable.\n",
    "\n",
    "Daarom geeft de methode **setLocation** niets terug. De methode heeft direct effect op het object waarvan de methode wordt aangeroepen.\n",
    "\n",
    "Een voorbeeld van een methode waarbij zowel de parameter als de return-waarde objecten zijn:"
   ]
  },
  {
   "cell_type": "code",
   "execution_count": 12,
   "id": "621f0561",
   "metadata": {},
   "outputs": [
    {
     "name": "stdout",
     "output_type": "stream",
     "text": [
      "java.awt.Point[x=60,y=25]\n"
     ]
    }
   ],
   "source": [
    "public static Point findCenter(Rectangle box) {\n",
    "int x = box.x + box.width / 2;\n",
    "int y = box.y + box.height / 2;\n",
    "return new Point(x, y);\n",
    "}\n",
    "\n",
    "Point center = findCenter( new Rectangle(10, 10, 100, 30 ));\n",
    "System.out.println(center);"
   ]
  },
  {
   "cell_type": "markdown",
   "id": "3a680220",
   "metadata": {},
   "source": [
    "## Referenties\n",
    "Ter herinnering: Als je een object toekent aan een variabele, dan wordt een referentie naar dat object toegekend.\n",
    "\n",
    "Er kunnen meerdere referenties zijn naar hetzelfde object.\n",
    "\n",
    "Voorbeeld:"
   ]
  },
  {
   "cell_type": "code",
   "execution_count": 13,
   "id": "6294b7b0",
   "metadata": {},
   "outputs": [
    {
     "name": "stdout",
     "output_type": "stream",
     "text": [
      "java.awt.Rectangle[x=0,y=0,width=100,height=200]\n",
      "java.awt.Rectangle[x=0,y=0,width=100,height=200]\n"
     ]
    }
   ],
   "source": [
    "Rectangle box1 = new Rectangle(0, 0, 100, 200);\n",
    "Rectangle box2 = box1;\n",
    "System.out.println(box1);\n",
    "System.out.println(box2);"
   ]
  },
  {
   "cell_type": "markdown",
   "id": "b4cdb7c7",
   "metadata": {},
   "source": [
    "Met een geheugen-diagram kan deze situatie als volgt worden weergegeven:\n",
    "![referenties](images/5/mem_referenties1.png)\n",
    "\n",
    "Er is sprake van één object, en twee referenties.\n",
    "\n",
    "Verandering van het (mutable) object:"
   ]
  },
  {
   "cell_type": "code",
   "execution_count": 14,
   "id": "9d366dac",
   "metadata": {},
   "outputs": [
    {
     "name": "stdout",
     "output_type": "stream",
     "text": [
      "java.awt.Rectangle[x=-50,y=-50,width=200,height=300]\n",
      "java.awt.Rectangle[x=-50,y=-50,width=200,height=300]\n"
     ]
    }
   ],
   "source": [
    "box1.grow(50, 50);\n",
    "System.out.println(box1);\n",
    "System.out.println(box2);"
   ]
  },
  {
   "cell_type": "markdown",
   "id": "24faf88e",
   "metadata": {},
   "source": [
    "De verandering is via beide variabelen (referenties) zichtbaar, want ze verwijderen naar hetzelfde object.\n",
    "\n",
    "Met een geheugen-diagram kan deze situatie als volgt worden weergegeven:\n",
    "![referenties](images/5/mem_referenties2.png)"
   ]
  },
  {
   "cell_type": "markdown",
   "id": "3a635bb1",
   "metadata": {},
   "source": [
    "Dit wordt ook wel *aliasing* genoemd.\n",
    "\n",
    "Code met verschillende verwijzingen naar hetzelfde object kan verwarrend zijn!"
   ]
  },
  {
   "cell_type": "markdown",
   "id": "89bdcf99",
   "metadata": {},
   "source": [
    "## Garbage collector\n",
    "\n",
    "Met het *keyword* **new** wordt een *object* gemaakt, maar hoe wordt een *object* verwijderd?\n",
    "\n",
    "Vuistregel: Een *object* bestaat niet meer, op het moment dat er geen *referenties* meer zijn.\n",
    "\n",
    "De *garbage collector* in de Java virtuele machine ruimt deze objecten op, zodat het geheugen dat deze objecten innemen weer beschikbaar komt.\n",
    "\n",
    "Voorbeeld:"
   ]
  },
  {
   "cell_type": "code",
   "execution_count": 15,
   "id": "82dba2b3",
   "metadata": {},
   "outputs": [
    {
     "name": "stdout",
     "output_type": "stream",
     "text": [
      "java.awt.Point[x=3,y=4]\n",
      "null\n"
     ]
    }
   ],
   "source": [
    "Point punt = new Point(3, 4);\n",
    "System.out.println(punt);\n",
    "punt = null;\n",
    "System.out.println(punt);"
   ]
  },
  {
   "cell_type": "markdown",
   "id": "b9c4652e",
   "metadata": {},
   "source": [
    "Zodra de referentie punt de waarde null krijgt, heeft het object, dat op de eerste regel wordt gemaakt, geen referentie meer. Het object bestaat dan nog wel, maar zal op een gegeven moment worden opgeruimd door de garbage collector. Wanneer dit precies gebeurt, is niet te beïnvloeden."
   ]
  },
  {
   "cell_type": "markdown",
   "id": "98b913a4",
   "metadata": {},
   "source": [
    "## Klasse StringBuilder\n",
    "Strings zijn immutable.\n",
    "\n",
    "Hoeveel objecten worden gemaakt in het onderstaande voorbeeld?:"
   ]
  },
  {
   "cell_type": "code",
   "execution_count": 16,
   "id": "f142e2b9",
   "metadata": {},
   "outputs": [
    {
     "name": "stdout",
     "output_type": "stream",
     "text": [
      "HoiHoiHoiHoiHoiHoiHoiHoiHoiHoi\n"
     ]
    }
   ],
   "source": [
    "public static String duplicateText(String text, int n) {\n",
    "    String result=\"\";\n",
    "    for(int i=0; i<n; i++) {\n",
    "        result=result+text;\n",
    "    }\n",
    "    return result;\n",
    "}\n",
    "\n",
    "System.out.println( duplicateText(\"Hoi\", 10) ); // Hoeveel strings worden hier gemaakt?"
   ]
  },
  {
   "cell_type": "markdown",
   "id": "eab79826",
   "metadata": {},
   "source": [
    "Voor elke bewerking met de immutable String, wordt een nieuw object gemaakt.\n",
    "In het bovenstaande voorbeeld ontstaan de strings \"\", \"Hoi\", \"HoiHoi\", \"HoiHoiHoi\", etc..\n",
    "Hoewel deze worden opgeruimd door de *garbage collector*, is dit niet efficiënt.\n",
    "\n",
    "Daarom zijn er ook mutable klassen waarin een string wordt opgeslagen: **StringBuilder** en **StringBuffer**.\n",
    "\n",
    "Het verschil tussen deze twee klassen is nogal technisch: **StringBuilder** is sneller dan **StringBuffer**, maar niet thread safe. Als dat geen probleem is, dan kan **StringBuilder** gebruikt worden.\n",
    "\n",
    "De methode **duplicateText** kan aangepast worden, zodat *StringBuilder* wordt gebruikt:"
   ]
  },
  {
   "cell_type": "code",
   "execution_count": 17,
   "id": "76d29d37",
   "metadata": {},
   "outputs": [
    {
     "name": "stdout",
     "output_type": "stream",
     "text": [
      "HoiHoiHoiHoiHoiHoiHoiHoiHoiHoi\n"
     ]
    }
   ],
   "source": [
    "public static String duplicateText_sb(String text, int n) {\n",
    "    StringBuilder result=new StringBuilder();\n",
    "    for(int i=0; i<n; i++) {\n",
    "        result.append(text);\n",
    "    }\n",
    "    return result.toString();\n",
    "}\n",
    "\n",
    "System.out.println( duplicateText_sb(\"Hoi\", 10) );\n"
   ]
  },
  {
   "cell_type": "markdown",
   "id": "f9c054fe",
   "metadata": {},
   "source": [
    "## Mutable vs Immutable\n",
    "\n",
    "Klassen en objecten zijn mutable of immutable.\n",
    "\n",
    "Beide hebben voor- en nadelen.\n",
    "\n",
    "Immutable klassen en objecten worden gebruikt voor betrouwbaarheid, performance en eenvoud.\n",
    "\n",
    "Mutable klassen bieden meestal meer flexibiliteit en zijn efficiënter als gegevens veranderen.\n",
    "\n",
    "Voorbeelden van immutable klassen zijn **String**, **BigInteger** en de *wrapper-types*.\n",
    "\n",
    "Voorbeelden van mutable klassen zijn **Point**, **Rectangle** en **StringBuilder**.\n",
    "\n",
    "Documentatie van alle klassen is te vinden op [https://docs.oracle.com/en/java/javase/11/docs/api/allclasses.html](https://docs.oracle.com/en/java/javase/11/docs/api/allclasses.html)"
   ]
  }
 ],
 "metadata": {
  "kernelspec": {
   "display_name": "Java",
   "language": "java",
   "name": "java"
  },
  "language_info": {
   "codemirror_mode": "java",
   "file_extension": ".jshell",
   "mimetype": "text/x-java-source",
   "name": "Java",
   "pygments_lexer": "java",
   "version": "11.0.11+9-Ubuntu-0ubuntu2"
  }
 },
 "nbformat": 4,
 "nbformat_minor": 5
}
