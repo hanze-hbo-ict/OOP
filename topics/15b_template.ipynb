{
 "cells": [
  {
   "cell_type": "markdown",
   "id": "19b0d621-9f87-4e3b-8a6e-46427b5b1aa5",
   "metadata": {
    "slideshow": {
     "slide_type": "slide"
    },
    "tags": []
   },
   "source": [
    "# Template method pattern\n",
    "\n",
    "> definieert de stappen van een algoritme waar subklassen één of meerdere stappen van implementeren."
   ]
  },
  {
   "cell_type": "markdown",
   "id": "cbbd56e1-d14e-49d8-9bb7-74f4e11ff766",
   "metadata": {
    "slideshow": {
     "slide_type": "subslide"
    },
    "tags": []
   },
   "source": [
    "## Mogelijkheden\n",
    "\n",
    "- verminderen duplicatie van code\n",
    "- variatie encapsuleren\n",
    "- hergebruik door overerving, geen compositie\n",
    "- flexibel, subklassen bepalen welke stappen zij implementeren"
   ]
  },
  {
   "cell_type": "markdown",
   "id": "fc0a5687-6941-4d51-8d1c-ef561a0305d8",
   "metadata": {
    "slideshow": {
     "slide_type": "subslide"
    },
    "tags": []
   },
   "source": [
    "## Voorbeelden\n",
    "\n",
    "- Alle niet-abstracte methoden van `java.io.InputStream`, `java.io.OutputStream`, `java.io.Reader` en `java.io.Writer`\n",
    "- Alle niet-abstracte methoden van `java.util.AbstractList`, `java.util.AbstractSet` en `java.util.AbstractMap`\n",
    "- Alle `doXXX()` methoden in de klasse `javax.servlet.http.HttpServlet` antwoorden standaard HTTP 405 “Method Not Allowed” (maar kunnen worden geïmplementeerd voor een andere response)"
   ]
  },
  {
   "cell_type": "markdown",
   "id": "b51421dc-6371-4af2-965f-a9947604ea3b",
   "metadata": {
    "slideshow": {
     "slide_type": "subslide"
    },
    "tags": []
   },
   "source": [
    "## Implementatie\n",
    "\n",
    "![Template method](images/15/template_method.png)"
   ]
  },
  {
   "cell_type": "markdown",
   "id": "e72d5c96-565c-4e4f-add0-abc32b801dea",
   "metadata": {
    "slideshow": {
     "slide_type": "subslide"
    },
    "tags": []
   },
   "source": [
    "## Voorbeeld"
   ]
  },
  {
   "cell_type": "markdown",
   "id": "086c8c71-a442-4657-b399-364a36aa26de",
   "metadata": {
    "slideshow": {
     "slide_type": "fragment"
    },
    "tags": []
   },
   "source": [
    "![House template](images/15/house_template.png)"
   ]
  },
  {
   "cell_type": "code",
   "execution_count": 1,
   "id": "441f1cf3-bb3c-4f00-b52c-eedbdcd7beee",
   "metadata": {
    "slideshow": {
     "slide_type": "subslide"
    },
    "tags": [],
    "vscode": {
     "languageId": "java"
    }
   },
   "outputs": [],
   "source": [
    "public abstract class HouseTemplate {\n",
    "\n",
    "    public final void buildHouse(){\n",
    "        buildFoundation();\n",
    "        buildPillars();\n",
    "        buildWalls();\n",
    "        buildWindows();\n",
    "        System.out.println(\"House is built.\");\n",
    "    }\n",
    "\n",
    "    private void buildWindows() {\n",
    "        System.out.println(\"Building Glass Windows\");\n",
    "    }\n",
    "\n",
    "    public abstract void buildWalls();\n",
    "    public abstract void buildPillars();\n",
    "\n",
    "    private void buildFoundation() {\n",
    "        System.out.println(\"Building foundation with cement,iron rods and sand\");\n",
    "    }\n",
    "}"
   ]
  },
  {
   "cell_type": "markdown",
   "id": "031f279a-2c18-4c10-9ebb-e6d83e9f56ed",
   "metadata": {
    "slideshow": {
     "slide_type": "notes"
    },
    "tags": []
   },
   "source": [
    "De methode `buildHouse` is de *template* methode en bepaalt het algoritme. Deze methode is `final` zodat subklassen deze niet kunnen herdefiniëren. De methode `buildWindows` is een standaard implementatie en subklassen mogen deze herdefiniëren, verder zijn de methoden `buildWalls` en `buildPillars` abstract, deze *moeten* door de subklasse geïmplementeerd worden. Tot slot is de methode `buildFoundation` `private` want deze methode (stap) zal altijd noodzakelijk zijn ongeacht het type woning."
   ]
  },
  {
   "cell_type": "code",
   "execution_count": 2,
   "id": "0d7a4357-acb4-46e2-b7eb-21d1a0fd558d",
   "metadata": {
    "slideshow": {
     "slide_type": "subslide"
    },
    "tags": [],
    "vscode": {
     "languageId": "java"
    }
   },
   "outputs": [],
   "source": [
    "public class WoodenHouse extends HouseTemplate {\n",
    "\n",
    "    @Override\n",
    "    public void buildWalls() {\n",
    "        System.out.println(\"Building Wooden Walls\");\n",
    "    }\n",
    "\n",
    "    @Override\n",
    "    public void buildPillars() {\n",
    "        System.out.println(\"Building Pillars with Wood coating\");\n",
    "    }\n",
    "}"
   ]
  },
  {
   "cell_type": "code",
   "execution_count": 3,
   "id": "e6e1e702-ea69-4afd-8ca6-7986d18fc17b",
   "metadata": {
    "slideshow": {
     "slide_type": "fragment"
    },
    "tags": [],
    "vscode": {
     "languageId": "java"
    }
   },
   "outputs": [],
   "source": [
    "public class GlassHouse extends HouseTemplate {\n",
    "\n",
    "    @Override\n",
    "    public void buildWalls() {\n",
    "        System.out.println(\"Building Glass Walls\");\n",
    "    }\n",
    "\n",
    "    @Override\n",
    "    public void buildPillars() {\n",
    "        System.out.println(\"Building Pillars with glass coating\");\n",
    "    }\n",
    "}"
   ]
  },
  {
   "cell_type": "code",
   "execution_count": 4,
   "id": "cc1a2abb-19d7-4c9f-a92b-00fbd4cc20c4",
   "metadata": {
    "slideshow": {
     "slide_type": "subslide"
    },
    "tags": [],
    "vscode": {
     "languageId": "java"
    }
   },
   "outputs": [],
   "source": [
    "HouseTemplate woodenType = new WoodenHouse();\n",
    "HouseTemplate glassType = new GlassHouse();"
   ]
  },
  {
   "cell_type": "code",
   "execution_count": 5,
   "id": "2f8023b2-8d33-475d-b99c-1a14b89edf0c",
   "metadata": {
    "slideshow": {
     "slide_type": "subslide"
    },
    "tags": [],
    "vscode": {
     "languageId": "java"
    }
   },
   "outputs": [
    {
     "name": "stdout",
     "output_type": "stream",
     "text": [
      "Building foundation with cement,iron rods and sand\n",
      "Building Pillars with Wood coating\n",
      "Building Wooden Walls\n",
      "Building Glass Windows\n",
      "House is built.\n"
     ]
    }
   ],
   "source": [
    "woodenType.buildHouse()"
   ]
  },
  {
   "cell_type": "code",
   "execution_count": 6,
   "id": "c63cf7f1-72cd-4c18-b44d-574b72d4ad28",
   "metadata": {
    "slideshow": {
     "slide_type": "subslide"
    },
    "tags": [],
    "vscode": {
     "languageId": "java"
    }
   },
   "outputs": [
    {
     "name": "stdout",
     "output_type": "stream",
     "text": [
      "Building foundation with cement,iron rods and sand\n",
      "Building Pillars with glass coating\n",
      "Building Glass Walls\n",
      "Building Glass Windows\n",
      "House is built.\n"
     ]
    }
   ],
   "source": [
    "glassType.buildHouse()"
   ]
  },
  {
   "cell_type": "markdown",
   "id": "7863d250-201a-421f-88c4-e2e97cf5dccd",
   "metadata": {
    "slideshow": {
     "slide_type": "subslide"
    },
    "tags": []
   },
   "source": [
    "## Een ander voorbeeld\n",
    "\n",
    "![Network template](images/15/network_template.png)"
   ]
  },
  {
   "cell_type": "markdown",
   "id": "0c6b75db-eeef-4d7d-8f7b-6cb8158291ce",
   "metadata": {
    "slideshow": {
     "slide_type": "slide"
    },
    "tags": []
   },
   "source": [
    "## Hollywood principle\n",
    "\n",
    "![Hollywoord_principle](images/15/hollywood_principle.png)"
   ]
  },
  {
   "attachments": {},
   "cell_type": "markdown",
   "id": "591b4167-2af2-4517-af49-74fac13b5667",
   "metadata": {
    "slideshow": {
     "slide_type": "notes"
    },
    "tags": []
   },
   "source": [
    "IoC, ook wel het Hollywood Principle genoemd: *Don't call us, we'll call you*. Het ontkoppelen van de uitvoering van een taak van de implementatie. De implementerende subklassen roepen niet rechtstreeks methoden aan die verantwoordelijk zijn voor de uitvoering, maar roept een methode aan die door de basisklasse wordt geleverd (de *template method*), die zelf de methoden van de implementerende klasse aanroept.\n",
    "\n",
    "Meer in het algemeen wordt dit principe [inversion of control](https://en.wikipedia.org/wiki/Inversion_of_control) genoemd."
   ]
  }
 ],
 "metadata": {
  "kernelspec": {
   "display_name": "Java",
   "language": "java",
   "name": "java"
  },
  "language_info": {
   "codemirror_mode": "java",
   "file_extension": ".jshell",
   "mimetype": "text/x-java-source",
   "name": "Java",
   "pygments_lexer": "java",
   "version": "18.0.2-ea+9-Ubuntu-2"
  }
 },
 "nbformat": 4,
 "nbformat_minor": 5
}
