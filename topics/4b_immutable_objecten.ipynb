{
 "cells": [
  {
   "cell_type": "markdown",
   "id": "0b2a284e",
   "metadata": {},
   "source": [
    "# Immutable objecten\n",
    "In object georiënteerde programmeertalen worden objecten gebruikt om gegevens in op te slaan.\n",
    "Via klassen worden bijbehorende methodes beschikbaar gesteld.\n",
    "\n",
    "Objecten waarvan gegevens (er wordt ook wel gesproken van 'eigenschappen') niet gewijzigd kunnen worden worden immutable genoemd."
   ]
  },
  {
   "cell_type": "markdown",
   "id": "c816425b",
   "metadata": {},
   "source": [
    "## Primitieve types vs. objecten\n",
    "In Java wordt onderscheid te maken tussen primitieve types en objecten.\n",
    "Objecten zijn niet-primitieve types.\n",
    "\n",
    "Er zijn 8 primitieve types: byte, short, int, long, float, double, boolean, char.\n",
    "\n",
    "Belangrijke eigenschap van een primitief type is dat de waarde wordt opgeslagen:\n",
    "![Memory primitieven](images/4/mem_primitives.png)\n",
    "\n",
    "In het geval van een object wordt een verwijzing opgeslagen naar het object in het geheugen.\n",
    "\n",
    "Bijvoorbeeld een String:\n",
    "![Memory string](images/4/mem_string.png)\n",
    "\n",
    "Ook een array is een niet-primitief type (ongeacht het type van de elementen). Daarom is ook een array een referentie:\n",
    "![Memory array](images/4/mem_array.png)\n",
    "\n",
    "De ==-operator vergelijkt de waarde van een variabele. Als deze op objecten wordt toegepast, wordt de inhoud van objecten niet vergeleken. Daarom wordt voor het vergelijken van de inhoud van objecten de methode equals gebruikt.\n"
   ]
  },
  {
   "cell_type": "markdown",
   "id": "bb2ecf7d",
   "metadata": {},
   "source": [
    "## Het keyword null\n",
    "Een *niet-primitieve* is een *referentie*. Het keyword *null* representeert een speciale waarde die betekent dat er geen verwijzing naar een object is. Of eenvoudig gezegd: Er is (nog) geen object.\n",
    "\n",
    "Voorbeeld:\n",
    "```Java\n",
    "String name=null; // String-variabele, die niet naar een String-object verwijst\n",
    "int[] combo=null; // Array-variabele, die niet naar een array verwijst\n",
    "```\n",
    "\n",
    "Een geheugen-diagram met de waarde *null* kan als volgt worden weergegeven:\n",
    "![Memory null](images/4/mem_null.png)\n",
    "\n",
    "Als een methode wordt gebruikt van een object met de waarde *null*, dan treedt een *NullPointerException* op:"
   ]
  },
  {
   "cell_type": "code",
   "execution_count": 1,
   "id": "0434d5f4",
   "metadata": {},
   "outputs": [
    {
     "ename": "EvalException",
     "evalue": "null",
     "output_type": "error",
     "traceback": [
      "\u001b[1m\u001b[31m---------------------------------------------------------------------------\u001b[0m",
      "\u001b[1m\u001b[31mjava.lang.NullPointerException: null\u001b[0m",
      "\u001b[1m\u001b[31m\tat .(#13:1)\u001b[0m"
     ]
    }
   ],
   "source": [
    "String name=null;\n",
    "//if (name==null) {\n",
    "//    System.out.println(\"Welke name?\");\n",
    "//} else {\n",
    "    System.out.println(name.length());\n",
    "//}"
   ]
  },
  {
   "cell_type": "markdown",
   "id": "f89c0266",
   "metadata": {},
   "source": [
    "Dit geldt ook voor het benaderen van een element van een array met waarde *null*."
   ]
  },
  {
   "cell_type": "markdown",
   "id": "9b05f016",
   "metadata": {},
   "source": [
    "## Strings\n",
    "\n",
    "De klasse **String** bevat veel verschillende methoden voor strings.\n",
    "\n",
    "Met echter geen van deze methoden is een string te veranderen.\n",
    "\n",
    "Dit komt doordat strings *immutable* zijn.\n",
    "\n",
    "Met andere woorden: Strings zijn onveranderbaar.\n",
    "\n",
    "In het geval er een verandering plaats moet vinden in een bestaande string, dan wordt een nieuwe string gemaakt.\n",
    "\n",
    "Bijvoorbeeld:"
   ]
  },
  {
   "cell_type": "code",
   "execution_count": 2,
   "id": "261e9800",
   "metadata": {},
   "outputs": [
    {
     "name": "stdout",
     "output_type": "stream",
     "text": [
      "Alan Turing\n"
     ]
    }
   ],
   "source": [
    "String name = \"Alan Turing\";\n",
    "name.toUpperCase();\n",
    "System.out.println(name);"
   ]
  },
  {
   "cell_type": "markdown",
   "id": "72dd9391",
   "metadata": {},
   "source": [
    "Omdat strings immutable zijn, heeft het aanroepen van de toUpperCase() methode geen effect op de string.\n",
    "\n",
    "Daarom geeft de methode toUpperCase() een nieuwe string terug:"
   ]
  },
  {
   "cell_type": "code",
   "execution_count": 3,
   "id": "73fd9bd8",
   "metadata": {},
   "outputs": [
    {
     "name": "stdout",
     "output_type": "stream",
     "text": [
      "ALAN TURING\n"
     ]
    }
   ],
   "source": [
    "String name = \"Alan Turing\";\n",
    "String nameUpper=name.toUpperCase();\n",
    "System.out.println(nameUpper);\n"
   ]
  },
  {
   "cell_type": "markdown",
   "id": "cc62824e",
   "metadata": {},
   "source": [
    "Het is niet nodig om een nieuwe variabele te declareren. De huidige variabele hergebruiken, kan ook:"
   ]
  },
  {
   "cell_type": "code",
   "execution_count": 4,
   "id": "c6327a88",
   "metadata": {},
   "outputs": [
    {
     "name": "stdout",
     "output_type": "stream",
     "text": [
      "ALAN TURING\n"
     ]
    }
   ],
   "source": [
    "String name = \"Alan Turing\";\n",
    "name=name.toUpperCase();\n",
    "System.out.println(name);"
   ]
  },
  {
   "cell_type": "markdown",
   "id": "ad452feb",
   "metadata": {},
   "source": [
    "De originele string gaat in dat geval verloren, omdat er geen referentie meer naar is.\n",
    "\n",
    "Ook voor andere bewerkingen met strings geldt dat deze plaatsvinden door een nieuwe string terug te geven.\n",
    "\n",
    "Bijvoorbeeld:"
   ]
  },
  {
   "cell_type": "code",
   "execution_count": 5,
   "id": "afcbe0f7",
   "metadata": {},
   "outputs": [
    {
     "name": "stdout",
     "output_type": "stream",
     "text": [
      "Java is een mooie programmeertaal\n"
     ]
    }
   ],
   "source": [
    "String zin=\"Java is een moeilijke programmeertaal\";\n",
    "zin = zin.replace(\"moeilijke\", \"mooie\");\n",
    "System.out.println(zin);"
   ]
  },
  {
   "cell_type": "markdown",
   "id": "b832d4fb",
   "metadata": {},
   "source": [
    "Dat strings *immutable* zijn, is een bewuste keuze van de ontwerpers van Java. Het maakt geheugenbeheer eenvoudiger. Ook voorkomt het dat een string onbedoeld verandert als er meerdere referenties zijn."
   ]
  },
  {
   "cell_type": "markdown",
   "id": "bea9913a",
   "metadata": {},
   "source": [
    "## Wrapper classes\n",
    "Soms is het nodig dat primitieve types eigenschappen hebben van een niet-primitief type: Opslaan van referentie in plaats van waarde of de beschikbaarheid van methodes.\n",
    "\n",
    "Oplossing: Wrapper-classes.\n",
    "\n",
    "| primitief type | wrapper class |\n",
    "|---|---|\n",
    "| byte, short, int, long | Byte, Short, Integer, Long |\n",
    "| double, float | Double, Float |\n",
    "| boolean | Boolean |\n",
    "| char | Char |"
   ]
  },
  {
   "cell_type": "markdown",
   "id": "5b1684bd",
   "metadata": {},
   "source": [
    "### Wrapper classes tbv. methodes\n",
    "\n",
    "Primitieve types hebben geen methodes omdat het geen objecten zijn. Wrapper classes bieden de nodige methodes.\n",
    "\n",
    "De methodes parseInt en toString van de wrapper-class Integer zetten strings om naar integers, en andersom.\n",
    "\n",
    "Voorbeeld:\n"
   ]
  },
  {
   "cell_type": "code",
   "execution_count": 6,
   "id": "ff7bc8af",
   "metadata": {},
   "outputs": [
    {
     "name": "stdout",
     "output_type": "stream",
     "text": [
      "124\n"
     ]
    }
   ],
   "source": [
    "String getalStr=\"123\";\n",
    "int getal = Integer.parseInt(getalStr);\n",
    "getal++;\n",
    "System.out.println(getal); // 124\n"
   ]
  },
  {
   "cell_type": "code",
   "execution_count": 7,
   "id": "4ede59ef",
   "metadata": {},
   "outputs": [
    {
     "name": "stdout",
     "output_type": "stream",
     "text": [
      "Het getal 65000 bevat 5 cijfers.\n"
     ]
    }
   ],
   "source": [
    "int getal=65000;\n",
    "String getalStr=Integer.toString(getal);\n",
    "System.out.println(\"Het getal \"+getal+\" bevat \"+getalStr.length()+\" cijfers.\");"
   ]
  },
  {
   "cell_type": "markdown",
   "id": "ddc802e4",
   "metadata": {},
   "source": [
    "### Opslaan van referentie\n",
    "\n",
    "In sommige gevallen is een referentie nodig in plaats van een waarde.\n",
    "\n",
    "Op verschillende manieren kan een integer worden omgezet naar een niet-primitieve:"
   ]
  },
  {
   "cell_type": "code",
   "execution_count": 8,
   "id": "da52fe71",
   "metadata": {},
   "outputs": [
    {
     "name": "stdout",
     "output_type": "stream",
     "text": [
      "10\n",
      "10\n",
      "10\n"
     ]
    }
   ],
   "source": [
    "Integer getal1 = Integer.valueOf(10);\n",
    "Integer getal2 = new Integer(10);\n",
    "Integer getal3 = 10; // autoboxing\n",
    "System.out.println(getal1);\n",
    "System.out.println(getal2);\n",
    "System.out.println(getal3);"
   ]
  },
  {
   "cell_type": "markdown",
   "id": "2e9d689e",
   "metadata": {},
   "source": [
    "Dit is ook voor de andere primitieve types mogelijk, op vergelijkbare wijze."
   ]
  },
  {
   "cell_type": "markdown",
   "id": "6b42a704",
   "metadata": {},
   "source": [
    "## Commandline argumenten\n",
    "Het argument van de main-methode is van het type String[], een string array.\n",
    "\n",
    "Deze wordt gebruikt om te achterhalen welke commandline-argumenten zijn meegegeven bij de start van een programma.\n",
    "\n",
    "Voorbeeld:\n",
    "```Java\n",
    "public class Commandline {\n",
    "\n",
    "    public static void main(String[] args) {\n",
    "        Random random = new Random();\n",
    "        int choice = random.nextInt(args.length);\n",
    "        System.out.println(\"Gekozen: \"+args[choice]);\n",
    "    }\n",
    "\n",
    "}\n",
    "```\n",
    "Als een applicatie werkt met argumenten via de commandline, dan is het belangrijk om deze te controleren om foutmeldingen te voorkomen. Dit wordt validatie genoemd.\n",
    "\n",
    "Voorbeeld:\n",
    "```Java\n",
    "public class Commandline {\n",
    "\n",
    "    public static String chooseRandomName(String[] names) {\n",
    "        Random random = new Random();\n",
    "        int choice = random.nextInt(names.length);\n",
    "        return names[choice];\n",
    "    }\n",
    "\n",
    "    public static void main(String[] args) {\n",
    "        if (args.length<2) {\n",
    "            System.out.println(\"Geef tenminste twee namen mee op de commandline.\");\n",
    "        } else {\n",
    "            System.out.println(\"Gekozen: \" + chooseRandomName(args));\n",
    "        }\n",
    "    }\n",
    "\n",
    "}\n",
    "```\n",
    "\n",
    "Uitgebreid voorbeeld:\n",
    "```Java\n",
    "public class Fibonacci {\n",
    "\n",
    "  /**\n",
    "   * Geeft het n-de getal in de rij van Fibonacci\n",
    "   * Zie https://nl.wikipedia.org/wiki/Rij_van_Fibonacci\n",
    "   * @param n Het n-de getal in de rij van Fibonacci\n",
    "   * @return Het getal in de rij van Fibonacci\n",
    "   */\n",
    "    public static int fib(int n) {\n",
    "        int g0=0;\n",
    "        int g1=1;\n",
    "        while(n>0) {\n",
    "            int g2=g0+g1;\n",
    "            g0=g1;\n",
    "            g1=g2;\n",
    "            n--;\n",
    "        }\n",
    "        return g0;\n",
    "    }\n",
    "\n",
    "    public static boolean stringContainsInteger(String s) {\n",
    "        if (s.isEmpty()) {\n",
    "            return false;\n",
    "        }\n",
    "        for(int i=0; i<s.length(); i++) {\n",
    "            char ch=s.charAt(i);\n",
    "            if ((ch<'0') || (ch>'9')) {\n",
    "                return false;\n",
    "            }\n",
    "        }\n",
    "        return true;\n",
    "    }\n",
    "\n",
    "    public static void main(String[] args) {\n",
    "        if (args.length!=1) {\n",
    "            System.out.println(\"Geef op de commandline aan het hoeveelste getal in de reeks van Fibonacci bepaald moet worden.\");\n",
    "        } else {\n",
    "            if (stringContainsInteger(args[0])) {\n",
    "                System.out.println(fib(Integer.parseInt(args[0])));\n",
    "            } else {\n",
    "                System.out.println(\"Ongeldig getal\");\n",
    "            }\n",
    "        }\n",
    "    }\n",
    "}\n",
    "```"
   ]
  },
  {
   "cell_type": "markdown",
   "id": "8161f9d5",
   "metadata": {},
   "source": [
    "## De klasse BigInteger\n",
    "\n",
    "Integers hebben een maximale grootte. Er kunnen grotere getallen opgeslagen worden gemaakt worden door gebruik te maken van het primitieve type long, maar ook daarmee zijn getallen eindig.\n",
    "\n",
    "De klasse BigInteger biedt de mogelijkheid om met (in theorie) oneindig grote integers te werken.\n",
    "\n",
    "Maken van BigInteger objecten:"
   ]
  },
  {
   "cell_type": "code",
   "execution_count": 9,
   "id": "1e8c6add",
   "metadata": {},
   "outputs": [
    {
     "name": "stdout",
     "output_type": "stream",
     "text": [
      "149\n",
      "50000000000000000000000000000000000000000\n"
     ]
    }
   ],
   "source": [
    "BigInteger b1=BigInteger.valueOf(149); // Aan de hand van een long\n",
    "BigInteger b2=new BigInteger(\"50000000000000000000000000000000000000000\"); // Aan de hand van een string\n",
    "System.out.println(b1);\n",
    "System.out.println(b2);"
   ]
  },
  {
   "cell_type": "markdown",
   "id": "d728bfbd",
   "metadata": {},
   "source": [
    "Operatoren om rekenkundige bewerkingen mee uit te voeren, zijn alleen beschikbaar voor numerieke variabelen. Dat zijn *primitieven*. **BigInteger** is een *niet-primitieve*, dus kunnen de rekenkundige operatoren niet gebruikt worden.\n",
    "\n",
    "Daarom bevat de klasse **BigInteger** methoden voor rekenkundige bewerkingen, zoals **add**, **multiply** en **pow**.\n",
    "\n",
    "Een volledige lijst van methoden is hier te vinden: https://docs.oracle.com/en/java/javase/11/docs/api/java.base/java/math/BigInteger.html"
   ]
  },
  {
   "cell_type": "code",
   "execution_count": 10,
   "id": "267c1818",
   "metadata": {},
   "outputs": [
    {
     "name": "stdout",
     "output_type": "stream",
     "text": [
      "50000000000000000000000000000000000000149\n",
      "1000000000000000000000000000000000000002980\n"
     ]
    }
   ],
   "source": [
    "BigInteger b3=b1.add(b2); // b3=b1+b2\n",
    "System.out.println(b3);\n",
    "b3=b3.multiply(BigInteger.valueOf(20)); // b3=b3*20\n",
    "System.out.println(b3);"
   ]
  },
  {
   "cell_type": "markdown",
   "id": "450058d2",
   "metadata": {},
   "source": [
    "BigIntegers kunnen heel groot worden:"
   ]
  },
  {
   "cell_type": "code",
   "execution_count": 11,
   "id": "415c708a",
   "metadata": {},
   "outputs": [
    {
     "name": "stdout",
     "output_type": "stream",
     "text": [
      "1000000000000000000000000000000000000059600000000000000000000000000000000001687276000000000000000000000000000000030168494880000000000000000000000000000382083987655200000000000000000000000003643552906279987200000000000000000000027144469151785904640000000000000000000161781036144643991654400000000000000000783424667530438529586432000000000000003112807345654275757556756480000000000010203782479054715933271047741440000000027642974352348230437407020244992000000061782047677498295027604690247557120000113298770510119950266007370423212441600168815168060078725896350981930586537984201227680327613841268450370461259153277115393277305090389681244407492047586489270595756792745732058849019841482778291273451892540397046922561679854603113217987206357870566652613603558522812344988375773481082714431239426930219899039403267535772057600000000000000000000\n"
     ]
    }
   ],
   "source": [
    "BigInteger b4=b3.pow(20); // b4=b3^20;\n",
    "System.out.println(b4);"
   ]
  },
  {
   "cell_type": "markdown",
   "id": "ebb9cb4a",
   "metadata": {},
   "source": [
    "De methoden van BigInteger wijzigen de waarde niet. Reden: BigIntegers zijn <u>immutable</u>.\n",
    "\n",
    "Daarom wordt de uitkomst van een rekenkundige operatie door de methode teruggegeven, in een nieuw BigInteger-object. Dit is vergelijkbaar met wat string-methoden doen."
   ]
  }
 ],
 "metadata": {
  "kernelspec": {
   "display_name": "Java",
   "language": "java",
   "name": "java"
  },
  "language_info": {
   "codemirror_mode": "java",
   "file_extension": ".jshell",
   "mimetype": "text/x-java-source",
   "name": "Java",
   "pygments_lexer": "java",
   "version": "11.0.11+9-Ubuntu-0ubuntu2"
  }
 },
 "nbformat": 4,
 "nbformat_minor": 5
}
