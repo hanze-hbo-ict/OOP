{
 "cells": [
  {
   "cell_type": "markdown",
   "id": "b68862e9",
   "metadata": {},
   "source": [
    "# Adapter pattern\n",
    "Het adapter pattern maakt het mogelijk om (een interface van) een bestaande klasse te voorzien van een andere interface, zodat een klasse gebruikt kan worden in situaties waarin een bepaalde interface wordt gevraagd, zonder andere klassen te wijzigen. Met andere woorden: Converteert een interface naar een andere interface, zodat de klasse in situaties gebruikt kan worden waarin naar de andere interface wordt gevraagd."
   ]
  },
  {
   "cell_type": "markdown",
   "id": "1e74d465",
   "metadata": {},
   "source": [
    "## Onderdelen\n",
    "\n",
    "- client: onderdeel dat een klasse vraagt met interface/type *target*..\n",
    "- target: een interface\n",
    "- adaptee: een klasse die (ook) gebruikt moet kunnen worden via de interface *target*\n",
    "- adapter: wrapper-klasse die de interface *target* implementeert\n",
    "\n",
    "Er vindt conversie plaats van *adaptee* naar *target*, via *adapter*."
   ]
  },
  {
   "cell_type": "markdown",
   "id": "2c808f03",
   "metadata": {},
   "source": [
    "## Twee varianten\n",
    "Er zijn twee varianten: *object adapter* en *class adapter*\n",
    "### Object adapter\n",
    "![object adapter](images/15/adapter_object.png)\n",
    "\n",
    "Bij object adapter implementeert de *adapter* de interface *target* en bevat een verwijziging naar een instantie van *adaptee*. Er wordt gewerkt met *compositie*. Deze variant heeft de voorkeur in Java.\n",
    "### Class adapter\n",
    "![class adapter](images/15/adapter_class.png)\n",
    "\n",
    "Bij class adapter overerft *adapter* een klasse *target* en een klasse *adaptee*. Door overriding wordt de functionaliteit van *target* doorgegeven aan *adaptee*. Hiervooor is multiple inheritance nodig, wat Java niet ondersteunt."
   ]
  },
  {
   "cell_type": "code",
   "execution_count": null,
   "id": "b4100ef4",
   "metadata": {},
   "outputs": [],
   "source": []
  }
 ],
 "metadata": {
  "kernelspec": {
   "display_name": "Python 3 (ipykernel)",
   "language": "python",
   "name": "python3"
  },
  "language_info": {
   "codemirror_mode": {
    "name": "ipython",
    "version": 3
   },
   "file_extension": ".py",
   "mimetype": "text/x-python",
   "name": "python",
   "nbconvert_exporter": "python",
   "pygments_lexer": "ipython3",
   "version": "3.10.6"
  }
 },
 "nbformat": 4,
 "nbformat_minor": 5
}
