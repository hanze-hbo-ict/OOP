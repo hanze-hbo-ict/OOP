{
 "cells": [
  {
   "cell_type": "markdown",
   "id": "56fe30c3-88ed-4658-ab49-b337c1952961",
   "metadata": {
    "slideshow": {
     "slide_type": "slide"
    },
    "tags": []
   },
   "source": [
    "# Design patterns"
   ]
  },
  {
   "cell_type": "markdown",
   "id": "e5fcac4c-64ec-4af4-99c5-0af33cacc596",
   "metadata": {
    "slideshow": {
     "slide_type": "fragment"
    },
    "tags": []
   },
   "source": [
    "> Design patterns zijn algemene oplossingen voor veel voorkomende problemen binnen een specifiek domein"
   ]
  },
  {
   "cell_type": "markdown",
   "id": "85049c24-1d17-4a71-9faa-67ffbc7ef58c",
   "metadata": {
    "slideshow": {
     "slide_type": "subslide"
    },
    "tags": []
   },
   "source": [
    "![Chess opening patterns](images/9/chess_patterns.png)"
   ]
  },
  {
   "cell_type": "markdown",
   "id": "dc4e423d-8d78-40b5-baa4-fcdf06ae76ec",
   "metadata": {
    "slideshow": {
     "slide_type": "notes"
    },
    "tags": []
   },
   "source": [
    "Je kent het spel schaken, misschien speel je het zelfs soms. Het spel valt op veel manieren te spelen, maar bijvoorbeeld als het gaat over de eerste zetten die het verdere verloop van het spel kunnen bepalen zijn bepaalde stratiegieën duidelijk geworden en hebben veelal een naam gekregen. Deze strategieën zijn *design patterns*, algemene oplossingen voor bekende situaties, in dit geval de opening van een schaakspel. "
   ]
  },
  {
   "cell_type": "markdown",
   "id": "ea1a6d87-497a-4e16-b686-cb51739bb155",
   "metadata": {
    "slideshow": {
     "slide_type": "subslide"
    },
    "tags": []
   },
   "source": [
    "![Business design patterns](images/9/business_patterns.png)"
   ]
  },
  {
   "cell_type": "markdown",
   "id": "cc64c15e-6aa8-4e40-a84d-2ff74b908a4b",
   "metadata": {
    "slideshow": {
     "slide_type": "notes"
    },
    "tags": []
   },
   "source": [
    "Maar ook in andere domeinen is sprake van design patterns, bijvoorbeeld bij ecommerce, waar je afhankelijk van jouw publiek bepaalde (en bekende!) strategieën kan volgen om tot een zo hoog mogelijke conversie (de omzetting van een bezoek naar een aankoop) te komen."
   ]
  },
  {
   "cell_type": "markdown",
   "id": "5e0d820b-ae42-44e7-b754-7019debc8561",
   "metadata": {
    "slideshow": {
     "slide_type": "subslide"
    },
    "tags": []
   },
   "source": [
    "![Design Patterns](images/9/design_patterns.png)"
   ]
  },
  {
   "cell_type": "markdown",
   "id": "2e269efd-1577-4792-b287-906168136b0b",
   "metadata": {
    "slideshow": {
     "slide_type": "notes"
    },
    "tags": []
   },
   "source": [
    "In object georiënteerd software design is ook sprake van design patterns. Dit zijn algemeen bruikbare patronen, maar kunnen meer of minder relevant zijn per taal, omdat de taal bepaalde kenmerken of gedrag heeft die sommige patronen overbodig of mnder relevant maakt. De design patterns die de auteurs (ook soms de *gang of four* genoemd) bespraken hebben een duidelijke oorsprong in de taal C++ maar zijn ook toepasbaar in talen als Java en C#."
   ]
  },
  {
   "cell_type": "markdown",
   "id": "88f5cd70-acad-4878-896b-eb3aa3a84971",
   "metadata": {
    "slideshow": {
     "slide_type": "subslide"
    },
    "tags": []
   },
   "source": [
    "## Voordelen\n",
    "\n",
    "- gemeenschappelijk vocabulair\n",
    "- worden begrepen door anderen\n",
    "- gesprekken gaan over ontwerp, niet de details"
   ]
  },
  {
   "cell_type": "markdown",
   "id": "cbb2b109-fa7e-4d5b-b853-fc08fafff406",
   "metadata": {
    "slideshow": {
     "slide_type": "notes"
    },
    "tags": []
   },
   "source": [
    "Net als bij schaken hebben de design patterns namen gekregen, namen die elke software ontwikkelaar kent. Het is met andere woorden een gedeeld *vocabulair* geworden waar iedereen zal weten wat je bedoelt en dit maakt het mogelijk om een gesprek over het *ontwerp* te voeren en niet direct over de specifieke *details* van een oplossing."
   ]
  },
  {
   "cell_type": "markdown",
   "id": "6cf12520-df65-4a71-baa2-f43a3d76fc5c",
   "metadata": {
    "slideshow": {
     "slide_type": "skip"
    },
    "tags": []
   },
   "source": [
    "## Bekende patronen"
   ]
  },
  {
   "cell_type": "markdown",
   "id": "9817a367-9705-494c-9ba9-dab6e7efe5d6",
   "metadata": {
    "slideshow": {
     "slide_type": "slide"
    },
    "tags": []
   },
   "source": [
    "![MVC](images/9/mvc.png)"
   ]
  },
  {
   "cell_type": "markdown",
   "id": "f7855d62-b5e8-4bf9-bf55-c76b5c52f925",
   "metadata": {
    "slideshow": {
     "slide_type": "notes"
    },
    "tags": []
   },
   "source": [
    "Design patterns heb je eerder gezien, bijvoorbeeld het Model View Controller (MVC) patroon dat werd gebruikt bij Webtechnologie I, waar de verantwoordelijkheden duidelijk werden gescheiden. Het *model* was verantwoordelijk voor de CRUD operaties, de *view* voor het tonen van het resultaat (met behulp van templates) en de *controller* die het geheel orkestreert (dit waren de functies die verantwoordelijk waren voor een *route*).\n",
    "\n",
    "Minder goed zichtbaar was de interactie van een model met een achterliggende database, waar maar één databaseconnectie wordt onderhouden in plaats van één connectie per gebruiker (de bezoeker van een webpagina). Het laatste is inefficiënt en de onderliggende implementatie zal moeten zorgen dat maar één connectie mag bestaan. Dit idee zal je later terugzien in het *singleton* pattern. "
   ]
  },
  {
   "cell_type": "markdown",
   "id": "1cb54102-10c7-439d-93e0-72a193a0978e",
   "metadata": {
    "slideshow": {
     "slide_type": "subslide"
    },
    "tags": []
   },
   "source": [
    "## Een eerder voorbeeld"
   ]
  },
  {
   "cell_type": "markdown",
   "id": "dd8b635e-2ce6-4369-9636-3146ca1eddad",
   "metadata": {
    "slideshow": {
     "slide_type": "fragment"
    },
    "tags": []
   },
   "source": [
    "```java\n",
    "public class TextMessage {\n",
    "    // ...\n",
    "}\n",
    "\n",
    "public class Ebook {\n",
    "    // ...\n",
    "}\n",
    "```"
   ]
  },
  {
   "cell_type": "markdown",
   "id": "56db769a-7886-4a2e-97b1-1f68f66cbb9f",
   "metadata": {
    "slideshow": {
     "slide_type": "fragment"
    },
    "tags": []
   },
   "source": [
    "- beide hebben een methode `read` nodig\n",
    "- en we verwachten andere typen, bijvoorbeeld webpagina"
   ]
  },
  {
   "cell_type": "markdown",
   "id": "2372eb5c-4a6c-49d9-b417-446805dc528e",
   "metadata": {
    "slideshow": {
     "slide_type": "subslide"
    },
    "tags": []
   },
   "source": [
    "### Eerste gedachte\n",
    "\n",
    "- een bovenliggende klasse met een methode `read` (implementatie)"
   ]
  },
  {
   "cell_type": "markdown",
   "id": "cebc9537-bdc7-4188-9637-fc3d34f9a95b",
   "metadata": {
    "slideshow": {
     "slide_type": "notes"
    },
    "tags": []
   },
   "source": [
    "De eerste gedachte was om op zoek te gaan naar een bovenliggende implementatie, bijvoorbeeld een klasse met de methode `read` waar de twee klassen van erven. We zagen ook dat het wat ongemakkelijk werd, het is lastig een bovenliggende klasse te bedenken en eigenlijk zijn we vooral geïnteresseerd in een enkele methode die moet worden geïmplementeerd."
   ]
  },
  {
   "cell_type": "markdown",
   "id": "25f176fa-5827-4208-8b49-062b6db11597",
   "metadata": {
    "slideshow": {
     "slide_type": "fragment"
    },
    "tags": []
   },
   "source": [
    "- maar we zijn eigenljk op zoek naar de meer *algemene* kenmerken (gedrag)"
   ]
  },
  {
   "cell_type": "markdown",
   "id": "5a7b548e-2846-4682-81d9-cbfe94c1bc79",
   "metadata": {
    "slideshow": {
     "slide_type": "notes"
    },
    "tags": []
   },
   "source": [
    "We zijn met andere woorden op zoek naar een manier om de functionaliteit of gedrag af te dwingen (een \"contract\") en niet zozeer een *concrete implementatie* (bijvoorbeeld een implementatie van de methode `read` in een bovenliggende klasse waar we deze methode in onderliggende klassen per geval aanpassen)."
   ]
  },
  {
   "cell_type": "markdown",
   "id": "e7dd99a8-1639-4cc7-93fd-225e3e887276",
   "metadata": {
    "slideshow": {
     "slide_type": "subslide"
    },
    "tags": []
   },
   "source": [
    "```java\n",
    "public interface Readable {\n",
    "    String read();\n",
    "}\n",
    "\n",
    "public interface Encryptable {\n",
    "\n",
    "    String encrypt(String content);\n",
    "    \n",
    "    String decrypt(String content);\n",
    "}\n",
    "\n",
    "public class TextMessage implements Readable, Encryptable {\n",
    "    @Override\n",
    "    public String read() {\n",
    "        // ...\n",
    "    }\n",
    "    \n",
    "    @Override\n",
    "    public String encrypt(String content) {\n",
    "        // ...\n",
    "    }\n",
    "    \n",
    "    @Override\n",
    "    public String decrypt(String content) {\n",
    "        // ...\n",
    "    }\n",
    "}\n",
    "```"
   ]
  },
  {
   "cell_type": "markdown",
   "id": "1b3ca572-37e3-41bd-a258-89c0d8aa7774",
   "metadata": {
    "slideshow": {
     "slide_type": "notes"
    },
    "tags": []
   },
   "source": [
    "Het idee van het definiëren van gedrag in de vorm van methoden konden we vormgeven door middel van interfaces die klassen implementeren. Zo bepaalde de interface `Readable` dat een methode `read` moet worden geïmplementeerd, maar ook eventueel andere methoden, bijvoorbeeld het geval dat een bericht versleuteld kan zijn (en de klasse ook de interface `Encryptable` moet implementeren)."
   ]
  },
  {
   "cell_type": "markdown",
   "id": "2a23afcc-d2ad-4279-a4fe-278f0dd546c8",
   "metadata": {
    "slideshow": {
     "slide_type": "subslide"
    },
    "tags": []
   },
   "source": [
    "![Readable](images/9/readable.png)"
   ]
  },
  {
   "cell_type": "markdown",
   "id": "bdf3bcf3-2675-424a-95fc-e80cfd1168d1",
   "metadata": {
    "slideshow": {
     "slide_type": "notes"
    },
    "tags": []
   },
   "source": [
    "De uitwerking die verder volgde zie je hier schematisch weergegeven. Merk op dat we zonder probleem een klasse `WebPage` kunnen toevoegen die de methode `read` implementeert, die bijvoorbeeld HTML omzet naar tekst.\n",
    "\n",
    "Tekst lezen is één ding, maar soms zou het ook uitgesproken moeten worden. Deze functionaliteit zou in een aparte klasse `SpeechSynthesizer` kunnen worden uitgewerkt. Het enige dat deze klasse nodig heeft zijn objecten die gegarandeerd de methode `read` hebben geïmplementeerd en dan volstaat het om te controleren op het meer algemene type `Readable`. "
   ]
  },
  {
   "cell_type": "markdown",
   "id": "0b2eafa2-fc6f-426d-803a-97e50f8cbef8",
   "metadata": {
    "slideshow": {
     "slide_type": "slide"
    },
    "tags": []
   },
   "source": [
    "## Een ander voorbeeld"
   ]
  },
  {
   "cell_type": "markdown",
   "id": "46c19037-60a9-4ceb-a61b-bd596c37fc76",
   "metadata": {
    "slideshow": {
     "slide_type": "subslide"
    },
    "tags": []
   },
   "source": [
    "![Diagram 1](images/9/diagram_1.png)"
   ]
  },
  {
   "cell_type": "markdown",
   "id": "7b7f0dfa-4699-4b5a-8bb3-17493d00b85a",
   "metadata": {
    "slideshow": {
     "slide_type": "notes"
    },
    "tags": []
   },
   "source": [
    "Stel je ontwerpt de volgende versie van het spel \"Big Car Theft\" waar de speler zich met verschillende voertuigen kan voortbewegen. Als eerste *proof of concept* beperk je je tot versnellen en afremmen, een eerste impleentatie zou intuïtief als het bovenstaande schema kunnen worden weergegeven."
   ]
  },
  {
   "cell_type": "markdown",
   "id": "2ccf0cbf-3fea-474c-9775-c80a2cd5d17f",
   "metadata": {
    "slideshow": {
     "slide_type": "subslide"
    },
    "tags": []
   },
   "source": [
    "![Diagram 2](images/9/diagram_2.png)"
   ]
  },
  {
   "cell_type": "markdown",
   "id": "01d95cd9-0085-4a2f-b464-021d0c9041d8",
   "metadata": {
    "slideshow": {
     "slide_type": "notes"
    },
    "tags": []
   },
   "source": [
    "Als onderdeel van de proof of concept heb je een klasse `Car` toegevoegd, en je gaat verder uitbreiden. Een klasse `Truck` wordt onderdeel worden van de mogelijke voetuigen en je breidt de klasse `Player` uit met een methode `drive` die naast een `Car` ook een `Truck` weet te bewegen. Dit kan omdat je weet van *method overloading*, je kan een methode meerdere keren definiëren zolang de signatuur uniek is."
   ]
  },
  {
   "cell_type": "markdown",
   "id": "2f0ef401-d237-4da5-9801-83be38e889cb",
   "metadata": {
    "slideshow": {
     "slide_type": "skip"
    },
    "tags": []
   },
   "source": [
    "### Abstractie"
   ]
  },
  {
   "cell_type": "markdown",
   "id": "ffc851e4-264a-4ac0-8925-503ebf07f363",
   "metadata": {
    "slideshow": {
     "slide_type": "subslide"
    },
    "tags": []
   },
   "source": [
    "![Diagram 3](images/9/diagram_3.png)"
   ]
  },
  {
   "cell_type": "markdown",
   "id": "ae1d8da2-68e7-4be4-ae5e-bb3fd784c863",
   "metadata": {
    "slideshow": {
     "slide_type": "notes"
    },
    "tags": []
   },
   "source": [
    "Game designers gaan zich nu met het spel bemoeien en vragen ook om een boot te implementeren. Maar de plannen gaan verder, het is zelfs de bedoeling om fietsen, vliegtuigen, onderzeeboten, jetpacks en ruimtestations toe voegen!\n",
    "\n",
    "Een volgende (voor de hand liggende) oplossingsrichting zou het implementeren van een abstracte klasse `Vehicle` kunnen zijn om toekomstige implementaties mogelijk te maken. Je ziet dat we nu probleemloos een klasse `Boat` kunnen toevoegen!"
   ]
  },
  {
   "cell_type": "markdown",
   "id": "4e258249-12a5-44df-849b-3a20552e9ed0",
   "metadata": {
    "slideshow": {
     "slide_type": "skip"
    },
    "tags": []
   },
   "source": [
    "### Verantwoordelijkheid"
   ]
  },
  {
   "cell_type": "markdown",
   "id": "45bbc14c-a75f-4625-bb5c-0e4a2786711e",
   "metadata": {
    "slideshow": {
     "slide_type": "subslide"
    },
    "tags": []
   },
   "source": [
    "![Diagram 4](images/9/diagram_4.png)"
   ]
  },
  {
   "cell_type": "markdown",
   "id": "c7bbd745-1369-4c24-946a-122653ea26fd",
   "metadata": {
    "slideshow": {
     "slide_type": "notes"
    },
    "tags": []
   },
   "source": [
    "De game krijgt een volgende uitbreiding, objecten moeten ook kapot kunnen gaan na een botsing en je definieert in de abstracte klasse `Vehicle` de methode `break`. Dit kan voor verwarring zorgen al is het alleen maar omdat de namen `brake` en `break` veel op elkaar lijken!\n",
    "\n",
    "Los van de mogelijke verwarring, de twee methoden horen bij verschillende scenario's maar kunnen zelfs per object verschillen (bijvorbeeld, sommige objecten kunnen niet breken in het spel). De volgende gedachte gaat nu uit naar het definiëren van twee verschillende klassen voor deze scenario's om verantwoordelijkheden te kunnen scheiden, bijvoorbeeld in de vorm van een klasse `Drivable` en `Breakable`."
   ]
  },
  {
   "cell_type": "markdown",
   "id": "ffac4947-2f5b-4b2d-b1c5-0d355d0cb294",
   "metadata": {
    "slideshow": {
     "slide_type": "skip"
    },
    "tags": []
   },
   "source": [
    "### Interfaces"
   ]
  },
  {
   "cell_type": "markdown",
   "id": "c830b1da-fa1f-41a4-be52-953a2936b6fb",
   "metadata": {
    "slideshow": {
     "slide_type": "subslide"
    },
    "tags": []
   },
   "source": [
    "![Diagram 5](images/9/diagram_5.png)"
   ]
  },
  {
   "cell_type": "markdown",
   "id": "eda25372-856b-428d-bb66-6d0848e851ed",
   "metadata": {
    "slideshow": {
     "slide_type": "notes"
    },
    "tags": []
   },
   "source": [
    "Je weet inmiddels dat dit idee van twee meer algemene klassen niet gaat werken, een klasse kan niet van meerdere klassen erven. Maar meer algemeen, je bent niet zozeer geïntereseerd in mogelijk bovenliggende klassen (implementatie) maar meer in het kunnen *afdwingen* van functionaliteit (de methoden `brake` of `break`, afhankelijk van de context). "
   ]
  },
  {
   "cell_type": "markdown",
   "id": "37484783-a594-404c-816b-bc446035492d",
   "metadata": {
    "slideshow": {
     "slide_type": "subslide"
    },
    "tags": []
   },
   "source": [
    "![Diagram 6](images/9/diagram_6.png)"
   ]
  },
  {
   "cell_type": "markdown",
   "id": "01efbc96-0171-41a0-ad4a-e85555c2e80a",
   "metadata": {
    "slideshow": {
     "slide_type": "notes"
    },
    "tags": []
   },
   "source": [
    "De oplossing die we nu hebben is voldoende om andere objecten toe te voegen die variëren, bijvoorbeeld een gebouw (dat wel kan breken, maar niet kan rijden)."
   ]
  },
  {
   "cell_type": "markdown",
   "id": "894471f1-e9af-4a6c-8ac2-5e5811a18757",
   "metadata": {
    "slideshow": {
     "slide_type": "subslide"
    },
    "tags": []
   },
   "source": [
    "![Player detail](images/9/player_detail.png)"
   ]
  },
  {
   "cell_type": "markdown",
   "id": "667807b0-a7cf-4ea1-9462-ef1f5a3103a4",
   "metadata": {
    "slideshow": {
     "slide_type": "notes"
    },
    "tags": []
   },
   "source": [
    "Let ook goed op wat we met dit ontwerp hebben kunnen bereiken in de klasse player, waar de methode `drive` een `Drivable` en de methode `collide` een `Breakable`. Het maakt voor de laatste niet uit of het een auto, boot of gebouw is, het heeft de zekerheid dat de objecten een *implementatie* hebben van de relevante methoden!\n",
    "\n",
    "Je ziet hier hopelijk een bekend patroon in terug, het voorbeeld waar we een `TexMessage`, `Ebook` en meer gingen modelleren!"
   ]
  },
  {
   "cell_type": "markdown",
   "id": "793296b5-85f9-4a44-95f1-ee0f71397547",
   "metadata": {
    "slideshow": {
     "slide_type": "subslide"
    },
    "tags": []
   },
   "source": [
    "### Ontwerpprincipes\n",
    "\n",
    "> Identificeer de aspecten die variëren en scheid ze van wat onveranderlijk is."
   ]
  },
  {
   "cell_type": "markdown",
   "id": "8245ce0c-c425-4c68-808d-949723435f29",
   "metadata": {
    "slideshow": {
     "slide_type": "notes"
    },
    "tags": []
   },
   "source": [
    "In de voorbeelden zag je dat we op zoek gingen naar specifiek gedrag dat veranderlijk is (met andere woorden, veranderlijk per klasse). We hebben dit gedrag kunnen isoleren door middel van  interfaces en dit maakt het gemakkelijker later wijzigingen aan te brengen. Deze wijzigingen zouden moeilijker zijn geweest als we meerdere subklassen hadden moeten doorlopen en op zoek hadden moeten gaan naar alle plekken waar het gedrag gedefinieerd was."
   ]
  },
  {
   "cell_type": "markdown",
   "id": "4416d067-e7af-4d38-9098-bcc967a42f37",
   "metadata": {
    "slideshow": {
     "slide_type": "fragment"
    },
    "tags": []
   },
   "source": [
    "> Programmeer naar een interface, niet naar een implementatie"
   ]
  },
  {
   "cell_type": "markdown",
   "id": "6714b68f-8104-43c3-bbc1-b7b6a11a5d75",
   "metadata": {
    "slideshow": {
     "slide_type": "notes"
    },
    "tags": []
   },
   "source": [
    "Een tweede principe dat uit de voorbeelden naar voren komt is dat het aan te raden is om naar een interface te programmeren en niet een implementatie. Ga altijd eerst op zoek naar wat een gedrag *definieert* en niet zozeer *implementeert*, bijvoorbeeld een bovenliggende klasse. Meer algemeen, programmeer naar een *supertype*, wat de meest algemene vorm is dat het gedrag *definieert*. In de praktijk zal je zien dat dit vaak interfaces zijn, maar ook abstracte klassen vallen in deze categorie."
   ]
  },
  {
   "cell_type": "markdown",
   "id": "95628dbb-42dc-4338-8297-340d3f32c023",
   "metadata": {
    "slideshow": {
     "slide_type": "slide"
    },
    "tags": []
   },
   "source": [
    "## Design Patterns"
   ]
  },
  {
   "cell_type": "markdown",
   "id": "3640220d-3d84-4d65-a0bf-8ba8c165c669",
   "metadata": {
    "slideshow": {
     "slide_type": "subslide"
    },
    "tags": []
   },
   "source": [
    "1.  **Creational Patterns**\n",
    "\n",
    "    Patronen die objecten *creëren*, in plaats van objecten direct te instantiëren.\n",
    "\n",
    "2.  **Structural Patterns**\n",
    "\n",
    "    Patronen die betrekking op de *samenstelling* van klassen en objecten.\n",
    "\n",
    "3.  **Behavioral Patterns**\n",
    "\n",
    "    Patronen die specifiek betrekking hebben op de *communicatie* tussen objecten.\n"
   ]
  },
  {
   "cell_type": "markdown",
   "id": "4a9b54f1-be21-4be3-805a-25b290c5ed93",
   "metadata": {
    "slideshow": {
     "slide_type": "notes"
    },
    "tags": []
   },
   "source": [
    "Je gaat kennis maken met principes van object georiënteerd software ontwerp in de vorm van algemene patronen die op te delen zijn in de bovenstaande categoriëen. Dit zijn de patronen die oorspronkelijk zijn beschreven in \"Design Patterns: Elements of Reusable Object-Oriented Software\".\n",
    "\n",
    "De specifieke patronen die zijn geïdentificeerd door de \"gang of four\" kunnen als volgt worden onderverdeeld:"
   ]
  },
  {
   "cell_type": "markdown",
   "id": "8ab83c34-4c65-4fba-9df5-d6bcdd44ff15",
   "metadata": {
    "slideshow": {
     "slide_type": "subslide"
    },
    "tags": []
   },
   "source": [
    "| Creational                                                                          | Structural                                                                                    | Behavioral                                                                                                                                                                        |\n",
    "|-------------------------------------------------------------------------------------|-----------------------------------------------------------------------------------------------|-----------------------------------------------------------------------------------------------------------------------------------------------------------------------------------|\n",
    "| **Abstract Factory**<br> Builder<br> **Factory Method**<br> Prototype<br> **Singleton** | **Adapter**<br> Bridge<br> **Composite**<br> **Decorator**<br> Facade<br> Flyweight<br> Proxy | Chain of Responsibility<br> **Command**<br> Interpreter<br> **Iterator**<br> Mediator<br> Memento<br> **Observer**<br> **State**<br> **Strategy**<br> **Template Method**<br> Visitor |"
   ]
  },
  {
   "cell_type": "markdown",
   "id": "1df55929-8936-4fc2-86e2-f987daf6931a",
   "metadata": {
    "slideshow": {
     "slide_type": "notes"
    },
    "tags": []
   },
   "source": [
    "De patronen hebben namen en we zullen in deze module een selectie van deze patronen behandelen (deze zijn hier dikgedrukt weergegegven). "
   ]
  }
 ],
 "metadata": {
  "kernelspec": {
   "display_name": "Java",
   "language": "java",
   "name": "java"
  },
  "language_info": {
   "codemirror_mode": "java",
   "file_extension": ".jshell",
   "mimetype": "text/x-java-source",
   "name": "Java",
   "pygments_lexer": "java",
   "version": "11.0.12+7-Ubuntu-0ubuntu3"
  }
 },
 "nbformat": 4,
 "nbformat_minor": 5
}
